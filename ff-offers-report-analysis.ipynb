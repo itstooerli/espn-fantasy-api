{
 "cells": [
  {
   "cell_type": "markdown",
   "id": "5b9a5478-b45d-42cc-973f-6f1616aba68a",
   "metadata": {
    "tags": []
   },
   "source": [
    "## Install Requirements"
   ]
  },
  {
   "cell_type": "code",
   "execution_count": 1,
   "id": "60e217a9-6514-4c5e-9392-341aa1820bf0",
   "metadata": {},
   "outputs": [],
   "source": [
    "# pip install python-dotenv"
   ]
  },
  {
   "cell_type": "markdown",
   "id": "2c1688b4-7732-44b4-959f-e964c97d800d",
   "metadata": {
    "tags": []
   },
   "source": [
    "## Import Modules"
   ]
  },
  {
   "cell_type": "code",
   "execution_count": 2,
   "id": "e63fc102-e589-4bb6-b658-8d6ec46e4ad8",
   "metadata": {},
   "outputs": [],
   "source": [
    "from dotenv import load_dotenv\n",
    "load_dotenv()\n",
    "import requests\n",
    "import json\n",
    "import os\n",
    "from datetime import datetime\n",
    "import pandas as pd"
   ]
  },
  {
   "cell_type": "markdown",
   "id": "628f40a4-ca70-428b-b458-75ade8c7cb39",
   "metadata": {
    "tags": []
   },
   "source": [
    "## Define Constants"
   ]
  },
  {
   "cell_type": "code",
   "execution_count": 3,
   "id": "4aecdfa1-8ac5-495d-a433-dc101723f907",
   "metadata": {
    "tags": []
   },
   "outputs": [],
   "source": [
    "## Constants\n",
    "POSITION_MAP = {\n",
    "    0: 'UNKNOWN',\n",
    "    1: 'QB',\n",
    "    2: 'RB',\n",
    "    3: 'WR',\n",
    "    4: 'TE',\n",
    "    5: 'K',\n",
    "    6: 'UNKNOWN',\n",
    "    7: 'OP',\n",
    "    8: 'DT',\n",
    "    9: 'DE',\n",
    "    10: 'LB',\n",
    "    11: 'DL',\n",
    "    12: 'CB',\n",
    "    13: 'S',\n",
    "    14: 'DB',\n",
    "    15: 'DP',\n",
    "    16: 'D/ST',\n",
    "    17: 'UNKNOWN',\n",
    "    18: 'P',\n",
    "    19: 'HC',\n",
    "    20: 'BE',\n",
    "    21: 'IR',\n",
    "    22: '',\n",
    "    23: 'RB/WR/TE',\n",
    "    24: 'ER',\n",
    "    25: 'Rookie',\n",
    "    'QB': 0,\n",
    "    'RB': 2,\n",
    "    'WR': 4,\n",
    "    'TE': 6,\n",
    "    'D/ST': 16,\n",
    "    'K': 17,\n",
    "    'FLEX': 23,\n",
    "    'DT': 8,\n",
    "    'DE': 9,\n",
    "    'LB': 10,\n",
    "    'DL': 11,\n",
    "    'CB': 12,\n",
    "    'S': 13,\n",
    "    'DB': 14,\n",
    "    'DP': 15,\n",
    "    'HC': 19\n",
    "}"
   ]
  },
  {
   "cell_type": "markdown",
   "id": "8574ca59-b199-4df3-87ba-bbb7afdb98b7",
   "metadata": {},
   "source": [
    "## Define League Info Variables"
   ]
  },
  {
   "cell_type": "code",
   "execution_count": 4,
   "id": "32bffb46-ae59-4189-aca2-e30e6865e5c1",
   "metadata": {},
   "outputs": [],
   "source": [
    "league_id = os.environ.get('LEAGUE_ID')\n",
    "cookie_swid = os.environ.get('SWID')\n",
    "cookie_espn_s2 = os.environ.get('ESPN_S2')"
   ]
  },
  {
   "cell_type": "markdown",
   "id": "a0acee79-11c3-4c66-854c-11fb3934b5e3",
   "metadata": {},
   "source": [
    "## Get Player Base"
   ]
  },
  {
   "cell_type": "code",
   "execution_count": 5,
   "id": "aa8fd341-8cb7-4bdd-820b-987c6f552a4c",
   "metadata": {},
   "outputs": [],
   "source": [
    "def get_player_base(year):\n",
    "    player_base = {}\n",
    "\n",
    "    endpoint = f'https://fantasy.espn.com/apis/v3/games/ffl/seasons/{year}/players'\n",
    "    params = {'view': 'players_wl'}\n",
    "    filters = {'filterActive': {'value': True}}\n",
    "    headers = {'x-fantasy-filter': json.dumps(filters)}\n",
    "    cookies = {\"swid\":      cookie_swid,\n",
    "               \"espn_s2\":   cookie_espn_s2}\n",
    "\n",
    "    response = requests.get(endpoint, params=params, headers=headers, cookies=cookies)\n",
    "    print(response.url)\n",
    "\n",
    "    for player in response.json():\n",
    "        player_id = player['id']\n",
    "        player_full_name = player['fullName']\n",
    "        player_position = POSITION_MAP[player['defaultPositionId']]\n",
    "\n",
    "        player_base[player_id] = (player_full_name, player_position)\n",
    "\n",
    "        if player_full_name not in player_base:\n",
    "            player_base[player_full_name] = (player_id, player_position)\n",
    "    \n",
    "    return player_base"
   ]
  },
  {
   "cell_type": "code",
   "execution_count": 6,
   "id": "a93e6393-3720-40e9-932c-ca750319f858",
   "metadata": {},
   "outputs": [
    {
     "name": "stdout",
     "output_type": "stream",
     "text": [
      "https://fantasy.espn.com/apis/v3/games/ffl/seasons/2018/players?view=players_wl\n",
      "https://fantasy.espn.com/apis/v3/games/ffl/seasons/2019/players?view=players_wl\n",
      "https://fantasy.espn.com/apis/v3/games/ffl/seasons/2020/players?view=players_wl\n",
      "https://fantasy.espn.com/apis/v3/games/ffl/seasons/2021/players?view=players_wl\n",
      "https://fantasy.espn.com/apis/v3/games/ffl/seasons/2022/players?view=players_wl\n"
     ]
    }
   ],
   "source": [
    "## Test Cases for Positional Data\n",
    "for year in range(2018, 2023):\n",
    "    player_base = get_player_base(year)\n",
    "    assert player_base['DeAndre Hopkins'][1] == 'WR'\n",
    "    assert player_base['Tom Brady'][1] == 'QB'\n",
    "    assert player_base['Sony Michel'][1] == 'RB'\n",
    "    assert player_base['Zach Ertz'][1] == 'TE'\n",
    "    assert player_base['Robbie Gould'][1] == 'K'\n",
    "\n",
    "    for player in player_base:\n",
    "        if player_base[player][1] == 'UNKNOWN':\n",
    "            print(player_base[player])\n",
    "        # print(player_base[player])"
   ]
  },
  {
   "cell_type": "markdown",
   "id": "9cceec5e-aaa1-4dd5-8b84-d97ba346fe76",
   "metadata": {},
   "source": [
    "## Build Offers Dataframe"
   ]
  },
  {
   "cell_type": "code",
   "execution_count": 7,
   "id": "5c0d1636-2697-4156-b64b-eee5f231ae38",
   "metadata": {},
   "outputs": [],
   "source": [
    "# transaction_id          : transaction['id']\n",
    "# year                    : year\n",
    "# scoring_period          : scoring_period\n",
    "# proposed_date           : transaction['proposedDate']\n",
    "# processed_date          : transaction['processedDate']\n",
    "# execution type          : transaction['executionType']\n",
    "# transaction_type        : transaction['type']\n",
    "# Team Owner              : teams[transaction['memberId']]\n",
    "# status                  : transaction['status']\n",
    "# bid amount              : transaction['bidAmount']\n",
    "# item_type               : transaction['items'][x]['type']\n",
    "# fromTeamId              : teams[transaction['items'][x]['fromTeamId']]\n",
    "# player_name             : player_base[transaction['items'][x]['playerId']][0]\n",
    "# player_position         : player_base[transaction['items'][x]['playerId']][1]\n",
    "# toTeamId                : teams[transaction['items'][x]['toTeamId']]\n",
    "# related_transaction_id  : transaction['relatedTransactionId']\n",
    "\n",
    "data = {'transactionId': [],\n",
    "        'year': [], \n",
    "        'scoringPeriod': [],\n",
    "        'proposedDate': [],\n",
    "        'processedDate': [],\n",
    "        'executionType': [],\n",
    "        'transactionType': [],\n",
    "        'teamOwner': [],\n",
    "        'status': [],\n",
    "        'bidAmount': [],\n",
    "        'itemType': [],\n",
    "        'fromTeam': [],\n",
    "        'playerName': [],\n",
    "        'playerPosition': [],\n",
    "        'toTeam': [],\n",
    "        'relatedTransactionId': []}\n",
    "\n",
    "class Transaction:\n",
    "    def __init__(self, transactionId=None, year=None, scoringPeriod=None):\n",
    "        self.transactionId = transactionId\n",
    "        self.year = year\n",
    "        self.scoringPeriod = scoringPeriod\n",
    "        self.proposedDate = None\n",
    "        self.processedDate = None\n",
    "        self.executionType = None\n",
    "        self.teamOwner = None\n",
    "        self.status = None\n",
    "        self.bidAmount = None\n",
    "        self.itemType = None\n",
    "        self.fromTeam = None\n",
    "        self.playerName = None\n",
    "        self.playerPosition = None\n",
    "        self.toTeam = None\n",
    "        self.relatedTransactionId = None\n",
    "\n",
    "def processTransaction(trans):\n",
    "    data['transactionId'].append(trans.transactionId)\n",
    "    data['year'].append(trans.year)\n",
    "    data['scoringPeriod'].append(trans.scoringPeriod)\n",
    "    data['proposedDate'].append(trans.proposedDate)\n",
    "    data['processedDate'].append(trans.processedDate)\n",
    "    data['executionType'].append(trans.executionType)\n",
    "    data['transactionType'].append(trans.transactionType)\n",
    "    data['teamOwner'].append(trans.teamOwner)\n",
    "    data['status'].append(trans.status)\n",
    "    data['bidAmount'].append(trans.bidAmount)\n",
    "    data['itemType'].append(trans.itemType)\n",
    "    data['fromTeam'].append(trans.fromTeam)\n",
    "    data['playerName'].append(trans.playerName)\n",
    "    data['playerPosition'].append(trans.playerPosition)\n",
    "    data['toTeam'].append(trans.toTeam)\n",
    "    data['relatedTransactionId'].append(trans.relatedTransactionId)"
   ]
  },
  {
   "cell_type": "code",
   "execution_count": 8,
   "id": "10d3ee74-4392-486f-a138-47d51b43c39e",
   "metadata": {},
   "outputs": [],
   "source": [
    "years = list(range(2018, 2023))\n",
    "# years = [2018]\n",
    "scoring_periods = list(range(0, 19))"
   ]
  },
  {
   "cell_type": "code",
   "execution_count": 9,
   "id": "1138b0cb-3c40-4937-898b-06ce5a5a1b7a",
   "metadata": {},
   "outputs": [
    {
     "name": "stdout",
     "output_type": "stream",
     "text": [
      "https://fantasy.espn.com/apis/v3/games/ffl/seasons/2018/players?view=players_wl\n",
      "https://fantasy.espn.com/apis/v3/games/ffl/seasons/2019/players?view=players_wl\n",
      "https://fantasy.espn.com/apis/v3/games/ffl/seasons/2020/players?view=players_wl\n",
      "https://fantasy.espn.com/apis/v3/games/ffl/seasons/2021/players?view=players_wl\n",
      "https://fantasy.espn.com/apis/v3/games/ffl/seasons/2022/players?view=players_wl\n"
     ]
    }
   ],
   "source": [
    "for year in years:\n",
    "    player_base = get_player_base(year)\n",
    "    \n",
    "    url = f'https://fantasy.espn.com/apis/v3/games/ffl/seasons/{year}/segments/0/leagues/{league_id}'\n",
    "    cookies = {\"swid\":      cookie_swid,\n",
    "               \"espn_s2\":   cookie_espn_s2}\n",
    "\n",
    "    for scoring_period in scoring_periods:\n",
    "        params = {\"scoringPeriodId\": scoring_period, \n",
    "                  \"view\": [\"mDraftDetail\", \"mStatus\", \"mSettings\", \"mTeam\", \"mTransactions2\", \"modular\", \"mNav\"]}\n",
    "        response = requests.get(url, params=params, cookies=cookies)\n",
    "        if response.status_code != 200:\n",
    "            print(response.json)\n",
    "            continue\n",
    "\n",
    "        members = {}\n",
    "        for member in response.json()['members']:\n",
    "            members[member['id']] = f\"{member['firstName'].strip()} {member['lastName'].strip()}\"\n",
    "\n",
    "        teams = {}\n",
    "        for team in response.json()['teams']:\n",
    "            teams[team['id']] = teams[team['primaryOwner']] = {'league_id': team['id'], \n",
    "                                                               'primary_owner_id': team['primaryOwner'], \n",
    "                                                               'owner_name': members[team['primaryOwner']], \n",
    "                                                               'team_name': f\"{team['location']} {team['nickname']}\"}\n",
    "\n",
    "\n",
    "        if 'transactions' not in response.json():\n",
    "            new_transaction = Transaction(year, scoring_period)\n",
    "            continue\n",
    "\n",
    "        for trans in response.json()['transactions']:\n",
    "            if 'items' in trans:\n",
    "                for item in trans['items']:\n",
    "                    new_transaction = Transaction(trans['id'], year, scoring_period)\n",
    "                    new_transaction.executionType = trans['executionType']\n",
    "                    new_transaction.transactionType = trans['type']\n",
    "                    new_transaction.bidAmount = trans['bidAmount']\n",
    "                    new_transaction.proposedDate = datetime.fromtimestamp(trans['proposedDate'] / 1000)\n",
    "\n",
    "                    if 'processDate' in trans:\n",
    "                        new_transaction.processedDate = datetime.fromtimestamp(trans['processDate'] / 1000)\n",
    "\n",
    "                    if 'relatedTransactionId' in trans:\n",
    "                        new_transaction.relatedTransactionId = trans['relatedTransactionId']\n",
    "\n",
    "                    if 'status' in trans:\n",
    "                        new_transaction.status = trans['status']\n",
    "\n",
    "                    if 'teamId' in trans:\n",
    "                        if trans['teamId'] in teams:\n",
    "                            new_transaction.teamOwner = teams[trans['teamId']]['owner_name']\n",
    "                        else:\n",
    "                            new_transaction.teamOwner = 'Free Agency'\n",
    "\n",
    "                    new_transaction.itemType = item['type']\n",
    "\n",
    "                    if item['fromTeamId'] in teams:\n",
    "                        new_transaction.fromTeam = teams[item['fromTeamId']]['owner_name']\n",
    "                    else:\n",
    "                        new_transaction.fromTeam = 'Free Agency'\n",
    "\n",
    "                    if item['toTeamId'] in teams:\n",
    "                        new_transaction.toTeam = teams[item['toTeamId']]['owner_name']\n",
    "                    else:\n",
    "                        new_transaction.toTeam = 'Free Agency'\n",
    "                    \n",
    "                    if new_transaction.teamOwner == 'Free Agency':\n",
    "                        if new_transaction.fromTeam != 'Free Agency':\n",
    "                            new_transaction.teamOwner = new_transaction.fromTeam\n",
    "                        elif new_transaction.toTeam != 'Free Agency':\n",
    "                            new_transaction.teamOwner = new_transaction.toTeam\n",
    "                    \n",
    "                    new_transaction.playerName, new_transaction.playerPosition = player_base[item['playerId']]\n",
    "                    \n",
    "                    processTransaction(new_transaction)\n",
    "            else:\n",
    "                new_transaction = Transaction(trans['id'], year, scoring_period)\n",
    "                new_transaction.executionType = trans['executionType']\n",
    "                new_transaction.transactionType = trans['type']\n",
    "                new_transaction.bidAmount = trans['bidAmount']\n",
    "                new_transaction.proposedDate = datetime.fromtimestamp(trans['proposedDate'] / 1000)\n",
    "\n",
    "                if 'status' in trans:\n",
    "                    new_transaction.status = trans['status']\n",
    "\n",
    "                if 'teamId' in trans:\n",
    "                    new_transaction.teamOwner = teams[trans['teamId']]['owner_name']\n",
    "\n",
    "                if 'processedDate' in trans:\n",
    "                    new_transaction.processedDate = datetime.fromtimestamp(trans['processedDate'] / 1000)\n",
    "\n",
    "                if 'relatedTransactionId' in trans:\n",
    "                    new_transaction.relatedTransactionId = trans['relatedTransactionId']\n",
    "                \n",
    "                processTransaction(new_transaction)"
   ]
  },
  {
   "cell_type": "code",
   "execution_count": 10,
   "id": "2f1af53e-85ad-4f1f-b750-86f141277ebd",
   "metadata": {},
   "outputs": [],
   "source": [
    "df = pd.DataFrame(data=data)"
   ]
  },
  {
   "cell_type": "code",
   "execution_count": 11,
   "id": "22c92423-43c4-460b-8080-e2086533f699",
   "metadata": {},
   "outputs": [],
   "source": [
    "df.to_csv('ff-offers-mc.csv')\n",
    "# df"
   ]
  }
 ],
 "metadata": {
  "kernelspec": {
   "display_name": "Python 3 (ipykernel)",
   "language": "python",
   "name": "python3"
  },
  "language_info": {
   "codemirror_mode": {
    "name": "ipython",
    "version": 3
   },
   "file_extension": ".py",
   "mimetype": "text/x-python",
   "name": "python",
   "nbconvert_exporter": "python",
   "pygments_lexer": "ipython3",
   "version": "3.9.7"
  }
 },
 "nbformat": 4,
 "nbformat_minor": 5
}
